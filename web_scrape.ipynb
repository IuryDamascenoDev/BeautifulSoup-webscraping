{
 "cells": [
  {
   "cell_type": "markdown",
   "id": "71e91b0e",
   "metadata": {},
   "source": [
    "### Importing libs"
   ]
  },
  {
   "cell_type": "code",
   "execution_count": 1,
   "id": "70b3a8a6",
   "metadata": {},
   "outputs": [],
   "source": [
    "from bs4 import BeautifulSoup\n",
    "import requests\n",
    "import pandas as pd"
   ]
  },
  {
   "cell_type": "markdown",
   "id": "2eabaf2c",
   "metadata": {},
   "source": [
    "### Web Scraping"
   ]
  },
  {
   "cell_type": "code",
   "execution_count": 2,
   "id": "47f53e32",
   "metadata": {},
   "outputs": [],
   "source": [
    "# Url is composed by two fixed parts and one transient index\n",
    "# The index represents the position of which you will see the products\n",
    "# The page show 48 items at a time\n",
    "url_start = \"https://lista.mercadolivre.com.br/informatica/portateis-acessorios/notebooks/notebook_Desde_\"\n",
    "url_end = \"_NoIndex_True\"\n",
    "index = 1\n",
    "\n",
    "# Creating arrays for organizing data\n",
    "name = []\n",
    "price = []\n",
    "seller = []\n",
    "\n",
    "for i in range(1, 11):\n",
    "\n",
    "    # Assemble url\n",
    "    url = url_start + str(index) + url_end\n",
    "\n",
    "    # HTTP request\n",
    "    response = requests.get(url)\n",
    "\n",
    "    # Soup object\n",
    "    soup = BeautifulSoup(response.content, 'html.parser')\n",
    "\n",
    "    # Results using class of '<li>' tag which contain each product\n",
    "    results = soup.find_all('li', {'class': 'ui-search-layout__item'})\n",
    "\n",
    "    for result in results:\n",
    "\n",
    "        # Targetting name\n",
    "        try:\n",
    "            name.append(result.find('h2').get_text())\n",
    "        except:\n",
    "            name.append('n/a')\n",
    "\n",
    "        # Targetting price\n",
    "        try:\n",
    "            price.append(result.find('span', {'class': 'price-tag-amount'}).get_text())\n",
    "        except:\n",
    "            price.append('n/a')\n",
    "\n",
    "        # Targetting seller\n",
    "        try:\n",
    "            seller.append(result.find('p', {'class': 'ui-search-official-store-label'}).get_text()[4:])\n",
    "        except:\n",
    "            seller.append('n/a')\n",
    "\n",
    "    # Updating index for pagination\n",
    "    index += 48\n"
   ]
  },
  {
   "cell_type": "markdown",
   "id": "e00d99dc",
   "metadata": {},
   "source": [
    "### Data treatment"
   ]
  },
  {
   "cell_type": "code",
   "execution_count": 3,
   "id": "6f3cbf71",
   "metadata": {},
   "outputs": [],
   "source": [
    "pd.set_option('display.max_colwidth', None)\n",
    "pd.set_option('display.colheader_justify', 'left')\n",
    "\n",
    "notebooks_dataframe = pd.DataFrame({'Name':name, 'Price(R$)':price, 'Seller':seller})\n"
   ]
  },
  {
   "cell_type": "markdown",
   "id": "1ebe5585",
   "metadata": {},
   "source": [
    "### Cleaning data"
   ]
  },
  {
   "cell_type": "code",
   "execution_count": 4,
   "id": "7be2923f",
   "metadata": {},
   "outputs": [],
   "source": [
    "notebooks_dataframe['Price(R$)'] = notebooks_dataframe['Price(R$)'].map(lambda x: x.strip('R$'))\n"
   ]
  },
  {
   "cell_type": "code",
   "execution_count": 5,
   "id": "3f5ae8f5",
   "metadata": {},
   "outputs": [],
   "source": [
    "notebooks = notebooks_dataframe.style.set_properties(**{'text-align': 'right'})\n",
    "\n",
    "notebooks_sorted = notebooks_dataframe.sort_values(by='Price(R$)')\n",
    "\n",
    "notebooks_sorted = notebooks_sorted.reset_index(drop=True)\n"
   ]
  },
  {
   "cell_type": "code",
   "execution_count": 6,
   "id": "6404b688",
   "metadata": {},
   "outputs": [
    {
     "data": {
      "text/html": [
       "<div>\n",
       "<style scoped>\n",
       "    .dataframe tbody tr th:only-of-type {\n",
       "        vertical-align: middle;\n",
       "    }\n",
       "\n",
       "    .dataframe tbody tr th {\n",
       "        vertical-align: top;\n",
       "    }\n",
       "\n",
       "    .dataframe thead th {\n",
       "        text-align: right;\n",
       "    }\n",
       "</style>\n",
       "<table border=\"1\" class=\"dataframe\">\n",
       "  <thead>\n",
       "    <tr style=\"text-align: left;\">\n",
       "      <th></th>\n",
       "      <th>Name</th>\n",
       "      <th>Price(R$)</th>\n",
       "      <th>Seller</th>\n",
       "    </tr>\n",
       "  </thead>\n",
       "  <tbody>\n",
       "    <tr>\n",
       "      <th>0</th>\n",
       "      <td>Notebook Hp Elitebook I5 4gb 120gb Promoção</td>\n",
       "      <td>1.199</td>\n",
       "      <td>n/a</td>\n",
       "    </tr>\n",
       "    <tr>\n",
       "      <th>1</th>\n",
       "      <td>Notebook Lenovo Thinkpad T430 Core I5 3320 3th 4gb 240gb Ssd</td>\n",
       "      <td>1.249</td>\n",
       "      <td>n/a</td>\n",
       "    </tr>\n",
       "    <tr>\n",
       "      <th>2</th>\n",
       "      <td>Notebook Lenovo Thinkpad T430 Core I5 3320 3th 4gb 240gb Ssd</td>\n",
       "      <td>1.249</td>\n",
       "      <td>n/a</td>\n",
       "    </tr>\n",
       "    <tr>\n",
       "      <th>3</th>\n",
       "      <td>Notebook Multilaser M11W Prime PC280 prateada táctil 11.6\", Intel Celeron N4020  4GB de RAM 64GB SSD, Intel UHD Graphics 600 1366x768px Windows 11 Home</td>\n",
       "      <td>1.289</td>\n",
       "      <td>n/a</td>\n",
       "    </tr>\n",
       "    <tr>\n",
       "      <th>4</th>\n",
       "      <td>Notebook Multilaser Legacy Cloud PC134 cinza 14.1\", Intel Atom Z8350  2GB de RAM 64GB SSD, Intel HD Graphics 1366x768px Windows 10 Home</td>\n",
       "      <td>1.292,94</td>\n",
       "      <td>n/a</td>\n",
       "    </tr>\n",
       "    <tr>\n",
       "      <th>...</th>\n",
       "      <td>...</td>\n",
       "      <td>...</td>\n",
       "      <td>...</td>\n",
       "    </tr>\n",
       "    <tr>\n",
       "      <th>529</th>\n",
       "      <td>Notebook Lenovo Thinkpad T14 I7 16gb 512gb Ssd W11 Pro 14</td>\n",
       "      <td>9.539</td>\n",
       "      <td>Lenovo</td>\n",
       "    </tr>\n",
       "    <tr>\n",
       "      <th>530</th>\n",
       "      <td>Notebook Samsung Intel I5 11ª Geração 8gb 256gb Np550xda</td>\n",
       "      <td>9.999</td>\n",
       "      <td>2Eletro</td>\n",
       "    </tr>\n",
       "    <tr>\n",
       "      <th>531</th>\n",
       "      <td>Notebook Acer Gamer An515-44-r4ka R7h 8gb Gtx 4gb 512ssd W11</td>\n",
       "      <td>9.999</td>\n",
       "      <td>VIKING</td>\n",
       "    </tr>\n",
       "    <tr>\n",
       "      <th>532</th>\n",
       "      <td>Notebook Samsung Intel I5 11ª Geração 8gb 256gb Np550xda</td>\n",
       "      <td>9.999</td>\n",
       "      <td>2Eletro</td>\n",
       "    </tr>\n",
       "    <tr>\n",
       "      <th>533</th>\n",
       "      <td>Notebook gamer Acer Nitro 5 AN515-55 preta e vermelha 15.6\", Intel Core i7 10750H  8GB de RAM 512GB SSD, NVIDIA GeForce GTX 1650 144 Hz 1920x1080px Windows 11 Home</td>\n",
       "      <td>9.999</td>\n",
       "      <td>n/a</td>\n",
       "    </tr>\n",
       "  </tbody>\n",
       "</table>\n",
       "<p>534 rows × 3 columns</p>\n",
       "</div>"
      ],
      "text/plain": [
       "    Name                                                                                                                                                                  \\\n",
       "0                                                                                                                            Notebook Hp Elitebook I5 4gb 120gb Promoção   \n",
       "1                                                                                                           Notebook Lenovo Thinkpad T430 Core I5 3320 3th 4gb 240gb Ssd   \n",
       "2                                                                                                           Notebook Lenovo Thinkpad T430 Core I5 3320 3th 4gb 240gb Ssd   \n",
       "3                Notebook Multilaser M11W Prime PC280 prateada táctil 11.6\", Intel Celeron N4020  4GB de RAM 64GB SSD, Intel UHD Graphics 600 1366x768px Windows 11 Home   \n",
       "4                                Notebook Multilaser Legacy Cloud PC134 cinza 14.1\", Intel Atom Z8350  2GB de RAM 64GB SSD, Intel HD Graphics 1366x768px Windows 10 Home   \n",
       "..                                                                                                                                                                   ...   \n",
       "529                                                                                                           Notebook Lenovo Thinkpad T14 I7 16gb 512gb Ssd W11 Pro 14    \n",
       "530                                                                                                             Notebook Samsung Intel I5 11ª Geração 8gb 256gb Np550xda   \n",
       "531                                                                                                         Notebook Acer Gamer An515-44-r4ka R7h 8gb Gtx 4gb 512ssd W11   \n",
       "532                                                                                                             Notebook Samsung Intel I5 11ª Geração 8gb 256gb Np550xda   \n",
       "533  Notebook gamer Acer Nitro 5 AN515-55 preta e vermelha 15.6\", Intel Core i7 10750H  8GB de RAM 512GB SSD, NVIDIA GeForce GTX 1650 144 Hz 1920x1080px Windows 11 Home   \n",
       "\n",
       "    Price(R$) Seller    \n",
       "0       1.199      n/a  \n",
       "1       1.249      n/a  \n",
       "2       1.249      n/a  \n",
       "3       1.289      n/a  \n",
       "4    1.292,94      n/a  \n",
       "..        ...      ...  \n",
       "529     9.539   Lenovo  \n",
       "530     9.999  2Eletro  \n",
       "531     9.999   VIKING  \n",
       "532     9.999  2Eletro  \n",
       "533     9.999      n/a  \n",
       "\n",
       "[534 rows x 3 columns]"
      ]
     },
     "execution_count": 6,
     "metadata": {},
     "output_type": "execute_result"
    }
   ],
   "source": [
    "notebooks_sorted"
   ]
  }
 ],
 "metadata": {
  "kernelspec": {
   "display_name": "Python 3 (ipykernel)",
   "language": "python",
   "name": "python3"
  },
  "language_info": {
   "codemirror_mode": {
    "name": "ipython",
    "version": 3
   },
   "file_extension": ".py",
   "mimetype": "text/x-python",
   "name": "python",
   "nbconvert_exporter": "python",
   "pygments_lexer": "ipython3",
   "version": "3.10.4"
  }
 },
 "nbformat": 4,
 "nbformat_minor": 5
}
